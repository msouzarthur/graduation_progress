{
 "cells": [
  {
   "cell_type": "code",
   "execution_count": null,
   "id": "7333e8a6",
   "metadata": {},
   "outputs": [],
   "source": [
    "#!/usr/bin/env python\n",
    "# coding: utf-8\n",
    "# author: msouzarthur\n",
    "\n",
    "import pandas as pd\n",
    "import time, os\n",
    "from pathlib import Path\n",
    "b"
   ]
  },
  {
   "cell_type": "code",
   "execution_count": null,
   "id": "aa80b154",
   "metadata": {},
   "outputs": [],
   "source": [
    "link_cc = \"https://cobalto.ufpel.edu.br/portal/cadastros/curriculoPublico/visualizar/100\" \n",
    "link_ec = \"https://cobalto.ufpel.edu.br/portal/cadastros/curriculoPublico/visualizar/138\"\n",
    "cols = ['código','cadeira','tipo','créditos']\n",
    "\n",
    "try:\n",
    "    driver = webdriver.Edge(EdgeChromiumDriverManager().install())\n",
    "except:\n",
    "    driver = webdriver.Chrome(ChromeDriverManager().install())\n",
    "\n",
    "print('atualizando grade curricular: ciência da computação')\n",
    "driver.get(link_cc)\n",
    "time.sleep(2)\n",
    "element = driver.find_elements(By.TAG_NAME, \"table\")\n",
    "curriculum_cc = get_disc(element[1].text)\n",
    "\n",
    "print('atualizando grade curricular: engenharia da computação')\n",
    "driver.get(link_ec)\n",
    "time.sleep(2)\n",
    "element = driver.find_elements(By.TAG_NAME, \"table\")\n",
    "curriculum_ec = get_disc(element[1].text)\n",
    "\n",
    "driver.close()\n",
    "\n",
    "print('salvando arquivos')\n",
    "df_cc = pd.DataFrame(data = curriculum_cc, columns = cols)\n",
    "\n",
    "df_cc.to_csv(\n",
    "    os.path.join(Path(__file__).parent,'docs\\gc_cc.csv'), \n",
    "    sep=';'\n",
    "    )\n",
    "df_ec = pd.DataFrame(data = curriculum_ec, columns = cols)\n",
    "df_ec.to_csv(\n",
    "    os.path.join(Path(__file__).parent,'docs\\gc_ec.csv'), \n",
    "    sep=';'\n",
    "    )"
   ]
  },
  {
   "cell_type": "code",
   "execution_count": null,
   "id": "a3613c43",
   "metadata": {},
   "outputs": [],
   "source": [
    "def get_disc(target):\n",
    "    curriculum = []\n",
    "    target = target.split(\"\\n\")\n",
    "    for t in target:\n",
    "        if 'Semestre' in t or 'Total: ' in t or 'COMPLEMENTARES' in t:\n",
    "            pass\n",
    "        elif len(t.split(' '))>=5:\n",
    "            cod = t.split(' ')[0]\n",
    "            if 'Centro' in t:\n",
    "                dsc = t.split('Centro')[0]\n",
    "                dsc = dsc.split(' ',1)[-1]\n",
    "            elif 'Departamento' in t:\n",
    "                dsc = t.split('Departamento')[0]\n",
    "                dsc = dsc.split(' ',1)[-1]\n",
    "            type = t.split(' DISCIPLINA')[1].strip()\n",
    "            type = type.split(' ')[0]\n",
    "            credits = t.split(\" DISCIPLINA\")[0][-1].strip()\n",
    "            curriculum.append([cod, dsc, type, credits])\n",
    "    return curriculum            "
   ]
  }
 ],
 "metadata": {
  "kernelspec": {
   "display_name": "Python 3",
   "language": "python",
   "name": "python3"
  },
  "language_info": {
   "codemirror_mode": {
    "name": "ipython",
    "version": 3
   },
   "file_extension": ".py",
   "mimetype": "text/x-python",
   "name": "python",
   "nbconvert_exporter": "python",
   "pygments_lexer": "ipython3",
   "version": "3.8.8"
  }
 },
 "nbformat": 4,
 "nbformat_minor": 5
}
